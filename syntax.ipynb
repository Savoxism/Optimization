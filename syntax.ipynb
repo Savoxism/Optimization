{
 "cells": [
  {
   "cell_type": "code",
   "execution_count": 1,
   "metadata": {},
   "outputs": [],
   "source": [
    "from collections import defaultdict\n",
    "from tsp.christofides_tsp import *"
   ]
  },
  {
   "cell_type": "code",
   "execution_count": 2,
   "metadata": {},
   "outputs": [
    {
     "name": "stdout",
     "output_type": "stream",
     "text": [
      "MST: {0: [1, 2], 1: [0], 2: [0, 3], 3: [2]}\n",
      "Total cost of MST: 4\n",
      "Odd-degree vertices: [1, 3]\n",
      "Minimum weight perfect matching: [(1, 3)]\n",
      "Multigraph: {0: [1, 2], 1: [0, 3], 2: [0, 3], 3: [2, 1]}\n",
      "Eulerian Tour: [0, 2, 3, 1, 0]\n",
      "From city 0 to city 2 with cost 1\n",
      "From city 2 to city 3 with cost 2\n",
      "From city 3 to city 1 with cost 3\n",
      "From city 1 to city 0 with cost 1\n",
      "TSP Tour: [0, 2, 3, 1]\n",
      "Total cost of TSP Tour: 7\n"
     ]
    }
   ],
   "source": [
    "# Example usage\n",
    "cost_matrix = [[0, 1, 1, 9], [1, 0, 9, 3], [1, 9, 0, 2], [9, 3, 2, 0]]\n",
    "\n",
    "mst, mst_cost = compute_mst(cost_matrix)\n",
    "print(\"MST:\", dict(mst))\n",
    "print(\"Total cost of MST:\", mst_cost)\n",
    "\n",
    "odd_degree_vertices = find_odd_degree_vertices(mst)\n",
    "print(\"Odd-degree vertices:\", odd_degree_vertices)\n",
    "\n",
    "if len(odd_degree_vertices) > 1:\n",
    "    matching = minimum_weight_perfect_matching(odd_degree_vertices, cost_matrix)\n",
    "    print(\"Minimum weight perfect matching:\", matching)\n",
    "\n",
    "    multigraph = combine_into_multigraph(mst, matching)\n",
    "    print(\"Multigraph:\", dict(multigraph))\n",
    "\n",
    "    eulerian_tour = generate_eulerian_tour(multigraph, list(multigraph.keys())[0])\n",
    "    print(\"Eulerian Tour:\", eulerian_tour)\n",
    "\n",
    "    tsp_tour, tsp_cost = generate_tsp_tour(eulerian_tour, cost_matrix)\n",
    "    print(\"TSP Tour:\", tsp_tour)\n",
    "    print(\"Total cost of TSP Tour:\", tsp_cost)"
   ]
  },
  {
   "cell_type": "code",
   "execution_count": null,
   "metadata": {},
   "outputs": [],
   "source": []
  }
 ],
 "metadata": {
  "kernelspec": {
   "display_name": "Python 3",
   "language": "python",
   "name": "python3"
  },
  "language_info": {
   "codemirror_mode": {
    "name": "ipython",
    "version": 3
   },
   "file_extension": ".py",
   "mimetype": "text/x-python",
   "name": "python",
   "nbconvert_exporter": "python",
   "pygments_lexer": "ipython3",
   "version": "3.12.3"
  }
 },
 "nbformat": 4,
 "nbformat_minor": 2
}
