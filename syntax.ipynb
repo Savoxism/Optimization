{
 "cells": [
  {
   "cell_type": "code",
   "execution_count": 1,
   "metadata": {},
   "outputs": [],
   "source": [
    "import random"
   ]
  },
  {
   "cell_type": "code",
   "execution_count": 2,
   "metadata": {},
   "outputs": [],
   "source": [
    "def perform_crossover(parent1, parent2):\n",
    "    size = len(parent1)\n",
    "    start, end = sorted(random.sample(range(size), 2))\n",
    "    offspring = [None] * size\n",
    "    offspring[start : end + 1] = parent1[start : end + 1]\n",
    "    remaining = [city for city in parent2 if city not in offspring]\n",
    "    for i in range(size):\n",
    "        if offspring[i] is None:\n",
    "            offspring[i] = remaining.pop(0)\n",
    "            \n",
    "    return offspring"
   ]
  },
  {
   "cell_type": "code",
   "execution_count": 23,
   "metadata": {},
   "outputs": [
    {
     "name": "stdout",
     "output_type": "stream",
     "text": [
      "[1, 3, 2, 4, 5, 6, 9, 8, 7]\n"
     ]
    }
   ],
   "source": [
    "list1 = [1, 3, 2, 4, 5, 6, 9, 8, 7]\n",
    "list2 = [1, 4, 3, 2, 5, 8, 7, 9, 6]\n",
    "\n",
    "print(perform_crossover(list1, list2))"
   ]
  },
  {
   "cell_type": "code",
   "execution_count": null,
   "metadata": {},
   "outputs": [],
   "source": []
  }
 ],
 "metadata": {
  "kernelspec": {
   "display_name": "Python 3",
   "language": "python",
   "name": "python3"
  },
  "language_info": {
   "codemirror_mode": {
    "name": "ipython",
    "version": 3
   },
   "file_extension": ".py",
   "mimetype": "text/x-python",
   "name": "python",
   "nbconvert_exporter": "python",
   "pygments_lexer": "ipython3",
   "version": "3.12.2"
  }
 },
 "nbformat": 4,
 "nbformat_minor": 2
}
